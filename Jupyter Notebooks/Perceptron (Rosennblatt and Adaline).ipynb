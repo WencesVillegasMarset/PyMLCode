{
 "cells": [
  {
   "cell_type": "markdown",
   "metadata": {},
   "source": [
    "## Rosenblatt Perceptron Implementation"
   ]
  },
  {
   "cell_type": "code",
   "execution_count": 6,
   "metadata": {
    "collapsed": true
   },
   "outputs": [],
   "source": [
    "import numpy as np\n",
    "import pandas as pd\n",
    "import matplotlib.pyplot as plt\n",
    "from matplotlib.colors import ListedColormap "
   ]
  },
  {
   "cell_type": "markdown",
   "metadata": {},
   "source": [
    "Perceptron class: \n",
    "    Initialization parameters:\n",
    "    l_rate : float\n",
    "        Learning rate\n",
    "    n_iters : int\n",
    "        Number of epochs to run\n",
    "    r_seed : float\n",
    "        Random seed to initialize weights\n",
    "    Attributes\n",
    "    w_vector : 1d-array\n",
    "        Vector of weights after training\n",
    "    error_list : list\n",
    "        Number of errors in classification per epoch\n",
    "    r_seed : float\n",
    "        Float value to feed into the RNG\n",
    "    "
   ]
  },
  {
   "cell_type": "code",
   "execution_count": 7,
   "metadata": {
    "collapsed": true
   },
   "outputs": [],
   "source": [
    "class Perceptron():\n",
    "\n",
    "    def __init__(self, l_rate, n_iters, r_seed=1):\n",
    "        self.l_rate = l_rate\n",
    "        self.n_iters = n_iters\n",
    "        self.r_seed = r_seed\n",
    "    def train(self, X, y): \n",
    "        ''' X is a matrix of M x N where Y is an array of M x 1\n",
    "        M is number of samples \n",
    "        N is number of features \n",
    "        Trains classifier initializing weights and creating list of errors per epoch ran \n",
    "        Returns Perceptron with trained weights and error per epoch info ''' \n",
    "        #initialize weights plus bias \n",
    "        randomGen = np.random.RandomState(seed=self.r_seed) \n",
    "        self.w_vector = randomGen.normal(loc=0.0, scale=0.01, size=1 + np.shape(X)[1]) \n",
    "        #initialize error list \n",
    "        self.error_list = [] \n",
    "        #optimization loop: epochs over training set \n",
    "        for _ in range(self.n_iters): \n",
    "            errors = 0 \n",
    "            for sample, target in zip(X, y):\n",
    "        #Loop over training set, selecting a row and respective target class for each case \n",
    "                update = self.l_rate * (target - self.predict(sample)) \n",
    "                self.w_vector[0] += update \n",
    "                self.w_vector[1:] += (update * sample) \n",
    "                #if an update is != 0 then register error \n",
    "                if update != 0.0: \n",
    "                    errors += 1 \n",
    "            self.error_list.append(errors) \n",
    "        return self \n",
    "    def net_input(self, X):\n",
    "        '''Calculate net input Z defined as X*W to feed into squashing function''' \n",
    "        return np.dot(X, self.w_vector[1:]) + self.w_vector[0] \n",
    "    def predict(self, X): \n",
    "        '''Return class label prediction from input given''' \n",
    "        return np.where(self.net_input(X) >= 0.0, 1, -1)\n"
   ]
  },
  {
   "cell_type": "markdown",
   "metadata": {},
   "source": [
    "Now the implementation of train() with batch gradient descent (AdaLine)"
   ]
  },
  {
   "cell_type": "code",
   "execution_count": null,
   "metadata": {
    "collapsed": true
   },
   "outputs": [],
   "source": [
    "'''\n",
    "    def train(self, X, Y):\n",
    "        randomGen = np.random.RandomState(seed=self.r_seed) \n",
    "        self.w_vector = randomGen.normal(loc=0.0, scale=0.01, size=1 + np.shape(X)[1]) \n",
    "        self.cost_list = []\n",
    "        for i in range(n_iters):\n",
    "            cost = 0\n",
    "            output = net_input(X)\n",
    "            errors = Y - output\n",
    "            self.w_vector[0] += self.l_rate * errors.sum()\n",
    "            self.w_vector[1:] += self.l_rate * np.dot(X,errors)\n",
    "            cost = (errors**2).sum() / 2.0\n",
    "            self.cost_list.append(cost)\n",
    "        return self\n",
    "'''"
   ]
  },
  {
   "cell_type": "markdown",
   "metadata": {},
   "source": [
    "Now lets test using the iris dataset. We load the dataset into a DataFrame, select the features and classes we want to use and then plot them."
   ]
  },
  {
   "cell_type": "code",
   "execution_count": 8,
   "metadata": {},
   "outputs": [
    {
     "data": {
      "image/png": "[encoded data removed]",
      "text/plain": [
       "<matplotlib.figure.Figure at 0x26f6e1106a0>"
      ]
     },
     "metadata": {},
     "output_type": "display_data"
    }
   ],
   "source": [
    "#loading iris dataset into a dataframe \n",
    "df  = pd.read_csv('https://archive.ics.uci.edu/ml/'\n",
    "        'machine-learning-databases/iris/iris.data', header=None)\n",
    "#select only 2 classes\n",
    "#get values of the column containing classes\n",
    "y = df.iloc[0:100, 4].values \n",
    "#print(y)\n",
    "#replace classes for useful numerical values\n",
    "y = np.where(y == 'Iris-setosa', -1 , 1) \n",
    "#print(y)\n",
    "#Extract only 2 features (sepal lenght and petal lenght)\n",
    "X = df.iloc[0:100, [0,2]].values\n",
    "#Scatter plot of the data selected, \n",
    "plt.scatter(X[:49, 0], X[:49, 1], label='setosa', color='green') #iris-setosa data points\n",
    "plt.scatter(X[50:, 0], X[50:, 1], label='versicolor', color='red', marker='x') #iris-versicolor data points\n",
    "#label for first feature (X1)\n",
    "plt.xlabel('sepal length in cm ')\n",
    "#label for second feature (X2)\n",
    "plt.ylabel('petal length in cm')\n",
    "plt.legend()\n",
    "#show the plot\n",
    "plt.show()"
   ]
  },
  {
   "cell_type": "markdown",
   "metadata": {},
   "source": [
    "Data ready! Now lets create a perceptron classifier and train it."
   ]
  },
  {
   "cell_type": "code",
   "execution_count": 9,
   "metadata": {},
   "outputs": [
    {
     "name": "stdout",
     "output_type": "stream",
     "text": [
      "1 Predicted for 4 and 4\n"
     ]
    },
    {
     "data": {
      "image/png": "[encoded data removed]",
      "text/plain": [
       "<matplotlib.figure.Figure at 0x26f6e464ba8>"
      ]
     },
     "metadata": {},
     "output_type": "display_data"
    }
   ],
   "source": [
    "perc = Perceptron(l_rate=0.1, n_iters=10)\n",
    "perc.train(X, y)\n",
    "print(str(perc.predict([4,4])) + \" Predicted for 4 and 4\")\n",
    "#print(perc.error_list)\n",
    "\n",
    "#plot error list, X is number of epochs, and Y is errors from error list\n",
    "plt.plot(range(1,len(perc.error_list) + 1), perc.error_list, marker='.')\n",
    "plt.xlabel('Epochs')\n",
    "plt.ylabel('Errors')\n",
    "plt.show()"
   ]
  },
  {
   "cell_type": "markdown",
   "metadata": {},
   "source": [
    "Now let's define a function to visualize the decision boundary that the perceptron learned"
   ]
  },
  {
   "cell_type": "code",
   "execution_count": 10,
   "metadata": {},
   "outputs": [
    {
     "data": {
      "image/png": "[encoded data removed]",
      "text/plain": [
       "<matplotlib.figure.Figure at 0x26f6e8eca90>"
      ]
     },
     "metadata": {},
     "output_type": "display_data"
    }
   ],
   "source": [
    "#define function to plot preety decision boundary\n",
    "def plot_decision_regions(X, y , classifier, resolution=0.02):\n",
    "    #Setup marker list and color list to feed into colormap\n",
    "    markers = ('s','x','o','^','v')\n",
    "    colors = ('red','blue','lightgreen','gray','cyan')\n",
    "    #create color map converting the first 2 colors to RGB useful values (we only have 2 classes)\n",
    "    colormap = ListedColormap(colors[:len(np.unique(y))])\n",
    "    # get min and max from each feature, this lets us define the surface of the plot where we want to visualize the dec. boundary\n",
    "    x1_min, x1_max = X[:, 0].min() - 1, X[:, 0].max() + 1 \n",
    "    x2_min, x2_max = X[:, 1].min() - 1, X[:, 1].max() + 1\n",
    "    # generate meshgrid to map function to multiple coordinates within the area of interest\n",
    "    xx1, xx2 = np.meshgrid(np.arange(x1_min, x1_max, resolution),\n",
    "                           np.arange(x2_min, x2_max, resolution))\n",
    "    # feed all those pairs of x,y coords, to the classifier raveling the xx1 and xx2 matrixes(cant feed whole matrices)\n",
    "    Z = classifier.predict(np.array([xx1.ravel(), xx2.ravel()]).T)\n",
    "    # shape the whole array of predictions to the shape of the matrix xx1\n",
    "    Z = Z.reshape(xx1.shape)\n",
    "    # pass the matrices and the Z values to plot a filled contour plot of the decision boundary\n",
    "    plt.contourf(xx1, xx2, Z, alpha=0.4, cmap=colormap)\n",
    "    # establish the limits of the contour visualization to the same range of the points tested\n",
    "    plt.xlim(xx1.min(), xx1.max())\n",
    "    plt.ylim(xx2.min(), xx2.max())\n",
    "\n",
    "    # plot class samples on the same plot\n",
    "\n",
    "    for idx, cl in enumerate(np.unique(y)):#build scatter plots for each class\n",
    "        plt.scatter(x=X[y == cl, 0], y=X[y == cl, 1],\n",
    "                    alpha=0.8, c=colormap(idx),\n",
    "                    edgecolor='black',\n",
    "                    marker=markers[idx],\n",
    "                    label=cl)\n",
    "\n",
    "plot_decision_regions(X, y, classifier=perc) #use the function\n",
    "plt.xlabel('sepal length cm')\n",
    "plt.ylabel('petal length cm')\n",
    "plt.legend(loc='upper left')\n",
    "plt.tight_layout()\n",
    "\n",
    "plt.show()\n"
   ]
  },
  {
   "cell_type": "code",
   "execution_count": null,
   "metadata": {
    "collapsed": true
   },
   "outputs": [],
   "source": []
  }
 ],
 "metadata": {
  "kernelspec": {
   "display_name": "Python 3",
   "language": "python",
   "name": "python3"
  },
  "language_info": {
   "codemirror_mode": {
    "name": "ipython",
    "version": 3
   },
   "file_extension": ".py",
   "mimetype": "text/x-python",
   "name": "python",
   "nbconvert_exporter": "python",
   "pygments_lexer": "ipython3",
   "version": "3.6.3"
  }
 },
 "nbformat": 4,
 "nbformat_minor": 2
}
